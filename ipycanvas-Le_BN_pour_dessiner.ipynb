{
 "cells": [
  {
   "cell_type": "markdown",
   "metadata": {},
   "source": [
    "# Le Bloc Note pour dessiner avec ipycanvas"
   ]
  },
  {
   "cell_type": "markdown",
   "metadata": {},
   "source": [
    "[**ipycanvas**](https://github.com/martinRenou/ipycanvas) est une bibliothèque légère, rapide et stable exposant l' [API Canvas du navigateur](https://developer.mozilla.org/en-US/docs/Web/API/Canvas_API) à IPython.\n",
    "\n",
    "Il vous permet de dessiner directement dans un notebook des primitives simples à partir de Python comme du texte, des lignes, des polygones, des arcs, des images, etc.\n",
    "\n",
    "Cet ensemble d'outils simple vous permet de dessiner littéralement n'importe quoi !\n",
    "\n",
    "<img src=\"https://github.com/martinRenou/ipycanvas/raw/master/docs/source/images/ipycanvas_logo.svg\" alt=\"ipycanvas_logo.svg\" width = 30%>\n",
    "\n",
    "## Installation d'ipycanvas :\n",
    "\n",
    "Le module est normalement déjà disponible sur le serveur jupyterhub il suffit donc d'importer les fonctionnalités de `Canvas`:  "
   ]
  },
  {
   "cell_type": "code",
   "execution_count": null,
   "metadata": {},
   "outputs": [],
   "source": [
    "from ipycanvas import Canvas"
   ]
  },
  {
   "cell_type": "markdown",
   "metadata": {},
   "source": [
    "> **/!\\ A faire avant pour fonctionner dans Carnet sur iPad :**\n",
    ">\n",
    "> Vérifier si le module `ipycanvas` n'est pas déjà installé :\n",
    "> ```python\n",
    "%pip list\n",
    "```\n",
    "> Sinon il faut l'installer en faisant :\n",
    "> ```python\n",
    "%pip install ipycanvas\n",
    "```\n",
    "> Après quoi, il faudra quitter ce notebook pour mieux le redémarrer dans Carnet afin de poursuivre...\n",
    "\n",
    "\n",
    "## Découverte de Canvas :\n",
    "\n",
    "> Les méthodes du module `ipycanvas` sont le reflet de celles de l'[API](https://fr.wikipedia.org/wiki/Interface_de_programmation) Web Canvas dont vous pouvez trouver des tutoriels et de la documentation en suivant ce lien: https://developer.mozilla.org/en-US/docs/Web/API/Canvas_API\n",
    ">\n",
    "> Il existe cependant quelques différences :\n",
    ">\n",
    ">    - ces méthodes correspondent plus précisément à celles de l'API Web [CanvasRenderingContext2D](https://developer.mozilla.org/en-US/docs/Web/API/CanvasRenderingContext2D) ;\n",
    ">    - ces méthodes sont écritent en **`snake_case`** au lieu de **`camelCase`** , ainsi par exemple, `canvas.fillStyle = 'red'` en JavaScript devient `canvas.fill_style = 'red'` en Python.\n",
    "\n",
    "\n",
    "<h3 class='fa fa-cog' style=\"color: MediumSeaGreen\"> A faire vous même n°1 :</h3>\n",
    "\n",
    "- Dans la cellule de code suivante, finaliser la transcription en Python du code Javascript ci-dessous correspondant à l'exemple basique présenté sur la page de l'API Web [CanvasRenderingContext2D](https://developer.mozilla.org/en-US/docs/Web/API/CanvasRenderingContext2D) et vérifier que cela produit bien le dessin attendu...\n",
    "\n",
    "HTML :\n",
    "```html\n",
    "<canvas id=\"my-house\" width=\"300\" height=\"300\"></canvas>\n",
    "```\n",
    "\n",
    "JavaScript :\n",
    "```javascript\n",
    "const canvas = document.getElementById('my-house');\n",
    "const ctx = canvas.getContext('2d');\n",
    "\n",
    "// Set line width\n",
    "ctx.lineWidth = 10;\n",
    "\n",
    "// Wall\n",
    "ctx.strokeRect(75, 140, 150, 110);\n",
    "\n",
    "// Door\n",
    "ctx.fillRect(130, 190, 40, 60);\n",
    "\n",
    "// Roof\n",
    "ctx.beginPath();\n",
    "ctx.moveTo(50, 140);\n",
    "ctx.lineTo(150, 60);\n",
    "ctx.lineTo(250, 140);\n",
    "ctx.closePath();\n",
    "ctx.stroke();\n",
    "```"
   ]
  },
  {
   "cell_type": "code",
   "execution_count": null,
   "metadata": {},
   "outputs": [],
   "source": [
    "# Import module\n",
    "from ipycanvas import Canvas\n",
    "\n",
    "# Instance\n",
    "ctx = Canvas(width=300, height=300)\n",
    "\n",
    "# Set line width\n",
    "ctx.line_width = 10\n",
    "\n",
    "# Wall\n",
    "ctx.stroke_rect(75, 140, 150, 110)\n",
    "\n",
    "# Door\n",
    "ctx.fill_rect(130, 190, 40, 60)\n",
    "\n",
    "// Roof\n",
    "ctx.beginPath();\n",
    "ctx.moveTo(50, 140);\n",
    "ctx.lineTo(150, 60);\n",
    "ctx.lineTo(250, 140);\n",
    "ctx.closePath();\n",
    "ctx.stroke();\n",
    "\n",
    "# Display\n",
    "ctx"
   ]
  },
  {
   "cell_type": "code",
   "execution_count": 2,
   "metadata": {},
   "outputs": [
    {
     "data": {
      "application/vnd.jupyter.widget-view+json": {
       "model_id": "80779d37d44942708bde05f184e17cc0",
       "version_major": 2,
       "version_minor": 0
      },
      "text/plain": [
       "Canvas(height=300, width=300)"
      ]
     },
     "metadata": {},
     "output_type": "display_data"
    }
   ],
   "source": [
    "# CORRECTION\n",
    "\n",
    "# Import module\n",
    "from ipycanvas import Canvas\n",
    "# Instance\n",
    "ctx = Canvas(width=300, height=300)\n",
    "# Set line width\n",
    "ctx.line_width = 10\n",
    "# Wall\n",
    "ctx.stroke_rect(75, 140, 150, 110)\n",
    "# Door\n",
    "ctx.fill_rect(130, 190, 40, 60)\n",
    "# Roof\n",
    "ctx.begin_path()\n",
    "ctx.move_to(50, 140)\n",
    "ctx.line_to(150, 60)\n",
    "ctx.line_to(250, 140)\n",
    "ctx.close_path()\n",
    "ctx.stroke()\n",
    "# Display\n",
    "ctx"
   ]
  },
  {
   "cell_type": "markdown",
   "metadata": {},
   "source": [
    "## Dessins de primitives simples :\n",
    " \n",
    "<img src=\"https://ipycanvas.readthedocs.io/en/latest/_images/grid.png\" alt=\"grid.png\" width = 20% align=\"right\">\n",
    "    \n",
    "Avant de pouvoir commencer à dessiner, nous devons parler de la grille du canevas.\n",
    "\n",
    "L'origine de cette grille est positionnée dans le coin supérieur gauche à la coordonnée (0,0).\n",
    "\n",
    "Tous les éléments sont placés par rapport à cette origine.\n",
    "\n",
    "Ainsi, la position du coin supérieur gauche du carré bleu devient x pixels à partir de la gauche et y pixels à partir du haut, aux coordonnées (x, y).\n",
    "\n",
    "\n",
    "###  Dessiner des rectangles :\n",
    "\n",
    "Il existe quatre méthodes pour dessiner des rectangles sur le canevas :\n",
    "\n",
    "- `fill_rect(x, y, width, height=None)`: Dessine un rectangle plein. Si `height`est homis, il est défini sur la même valeur que `width`.\n",
    "\n",
    "\n",
    "- `stroke_rect(x, y, width, height=None)`: Dessine un contour rectangulaire. Si `height`est homis, il est défini sur la même valeur que `width`.\n",
    "\n",
    "\n",
    "- `fill_rects(x, y, width, height=None)`: Dessine des rectangles pleins. Où `x`, `y`, `width` et `height` sont des entiers, des listes d'entiers ou des tableaux numpy. Si `height`est homis, il est défini sur la même valeur que `width`.\n",
    "\n",
    "\n",
    "- `stroke_rects(x, y, width, height=None)`: Dessine des contours rectangulaires. Où `x`, `y`, `width` et `height`sont des entiers, des listes d'entiers ou des tableaux numpy. Si `height`est homis, il est défini sur la même valeur que `width`.\n",
    "\n",
    "<br>\n",
    "\n",
    "Vous pouvez également effacer une certaine zone de rectangle de canevas:\n",
    "\n",
    "- `clear_rect(x, y, width, height=None)`: Efface la zone rectangulaire spécifiée, la rendant totalement transparente. Si `height`est homis, il est défini sur la même valeur que `width`.\n",
    "\n",
    "#### Exemple :\n",
    "\n",
    "\n",
    "<h3 class='fa fa-cog' style=\"color: MediumSeaGreen\"> A faire vous même n°2 :</h3>\n",
    "\n",
    "- Exécuter progressivement les instructions des cellules suivantes ;\n",
    "- Ajouter des commentaires pour décrire ce que produisent chacune de ces instructions ;\n",
    "- Amusez vous à changer l'ordre d'exécution des cellules..."
   ]
  },
  {
   "cell_type": "code",
   "execution_count": 34,
   "metadata": {},
   "outputs": [],
   "source": [
    "from ipycanvas import Canvas"
   ]
  },
  {
   "cell_type": "code",
   "execution_count": 35,
   "metadata": {},
   "outputs": [],
   "source": [
    "cr = Canvas(width = 200, height = 160)"
   ]
  },
  {
   "cell_type": "code",
   "execution_count": 36,
   "metadata": {},
   "outputs": [
    {
     "data": {
      "application/vnd.jupyter.widget-view+json": {
       "model_id": "2772190224f74ef7a82e997938119e3a",
       "version_major": 2,
       "version_minor": 0
      },
      "text/plain": [
       "Canvas(height=160, width=200)"
      ]
     },
     "metadata": {},
     "output_type": "display_data"
    }
   ],
   "source": [
    "cr"
   ]
  },
  {
   "cell_type": "code",
   "execution_count": 37,
   "metadata": {},
   "outputs": [],
   "source": [
    "cr.fill_style = 'rgb(220, 220, 220)'\n",
    "cr.fill_rect(0, 0, 200, 160)"
   ]
  },
  {
   "cell_type": "code",
   "execution_count": 38,
   "metadata": {},
   "outputs": [],
   "source": [
    "cr.fill_style = \"yellow\" \n",
    "cr.fill_rect(25, 40, 150, 80)"
   ]
  },
  {
   "cell_type": "code",
   "execution_count": 39,
   "metadata": {},
   "outputs": [],
   "source": [
    "cr.stroke_style = '#FF0000'\n",
    "cr.stroke_rect(25, 40, 150, 80)"
   ]
  },
  {
   "cell_type": "code",
   "execution_count": 40,
   "metadata": {},
   "outputs": [],
   "source": [
    "cr.clear_rect(70, 50, 60)"
   ]
  },
  {
   "cell_type": "markdown",
   "metadata": {},
   "source": [
    "<h3 class='fa fa-code' style=\"color: darkorange\"> A faire vous même n°3 :</h3>\n",
    "\n",
    "- Considérant que le gris correspond à l'image d'un fond (background) il aurait été intéressant de pouvoir effacer le jaune sans traverser tout l'arrière plan. Non verrons plus tard qu'ipycanvas propose des solutions évoluées pour éviter cela, mais à ce stade, que proposeriez vous de faire pour ça...\n",
    "\n",
    "\n",
    "- En vous inspirant du code de l'exemple basique du \"A faire vous même n°1\", ajouter une instruction qui permette d'épaissir le cadre rouge du rectangle dessiné en bordure...\n",
    "\n",
    "## Les couleurs\n",
    "\n",
    "Le Canvas a deux attributs de couleur, un pour les traits et un pour les surfaces. Vous pouvez également modifier la transparence globale.\n",
    "\n",
    "`stroke_style: (couleur HTML valide)` La couleur des rectangles et des tracés. La valeur par défaut est `\"black\"` ;\n",
    "\n",
    "`fill_style: (couleur HTML valide)` La couleur de remplissage des rectangles et des chemins. La valeur par défaut est `\"black\"` ;\n",
    "\n",
    "`global_alpha: (float)` Niveau de transparence. Par défaut à 1.0.\n",
    "\n",
    "`couleur HTML valide` est une chaine de caractère (type `str`) telle que `'rgb(220, 220, 220)'`, `\"yellow\"`, `'#FF0000'`, `\"rgba(0, 0, 255, 0.5)\"`, ...\n",
    "\n",
    "Pour plus d'information à ce sujet : https://www.w3schools.com/colors/colors_picker.asp\n",
    "\n",
    "\n",
    "<h3 class='fa fa-code' style=\"color: darkorange\"> A faire vous même n°4 :</h3>\n",
    "\n",
    "- Produire un code qui dessine le drapeu Français ;"
   ]
  },
  {
   "cell_type": "code",
   "execution_count": null,
   "metadata": {},
   "outputs": [],
   "source": [
    "from ipycanvas import Canvas\n",
    "dfr = Canvas(width = 200, height = 140)\n",
    "dfr"
   ]
  },
  {
   "cell_type": "code",
   "execution_count": 12,
   "metadata": {},
   "outputs": [],
   "source": [
    "# A compléter"
   ]
  },
  {
   "cell_type": "markdown",
   "metadata": {},
   "source": [
    "## Dessiner des cercles\n",
    "\n",
    "TO DO :\n",
    "\n",
    "-\tDes cercles (drapeau du Bangladesh) + variables (Bangladesh -> Palaos -> Japon) ;\n",
    "\n",
    "-\tLes variables permettent l’interactivité avec ipywidget (une balle blanche sur fond noir pour un télécran avec deux sliders en X et Y) ;\n",
    "\n",
    "-\tLes variables permettent l’animation avec time (la balle s’anime gauche <-> droite, + vitesse, rebonds…) ;\n",
    "\n",
    "-\tLes lignes + des boucles pour refaire le drapeau Français ;\n",
    "\n",
    "-\tUne fonction point (carré ou rond) + des boucles imbriquées pour refaire des drapeaux , un télécran plus évolué, une animation plus évolué, des spirales, … ;\n",
    "\n",
    "-\tLes textes   + un mélange lettres : l’utilisateur saisi un mot dans un champ d’une interface ipywidget le mot s’affiche avec les lettre mélangées dans le canvas lorsqu’on appuie sur un bouton ;\n",
    "\n",
    "-\tLes canvas multiples ;\n",
    "\n",
    "-\tLes listes + fill_rects(x, y, width, height=None) ;\n",
    "\n",
    "-\tEt plus si affinité : faire tomber de la neige…"
   ]
  },
  {
   "cell_type": "code",
   "execution_count": null,
   "metadata": {},
   "outputs": [],
   "source": []
  }
 ],
 "metadata": {
  "kernelspec": {
   "display_name": "Python 3",
   "language": "python",
   "name": "python3"
  },
  "language_info": {
   "codemirror_mode": {
    "name": "ipython",
    "version": 3
   },
   "file_extension": ".py",
   "mimetype": "text/x-python",
   "name": "python",
   "nbconvert_exporter": "python",
   "pygments_lexer": "ipython3",
   "version": "3.7.3"
  },
  "toc": {
   "base_numbering": 1,
   "nav_menu": {},
   "number_sections": true,
   "sideBar": true,
   "skip_h1_title": false,
   "title_cell": "Table of Contents",
   "title_sidebar": "Contents",
   "toc_cell": false,
   "toc_position": {},
   "toc_section_display": true,
   "toc_window_display": false
  },
  "varInspector": {
   "cols": {
    "lenName": 16,
    "lenType": 16,
    "lenVar": 40
   },
   "kernels_config": {
    "python": {
     "delete_cmd_postfix": "",
     "delete_cmd_prefix": "del ",
     "library": "var_list.py",
     "varRefreshCmd": "print(var_dic_list())"
    },
    "r": {
     "delete_cmd_postfix": ") ",
     "delete_cmd_prefix": "rm(",
     "library": "var_list.r",
     "varRefreshCmd": "cat(var_dic_list()) "
    }
   },
   "types_to_exclude": [
    "module",
    "function",
    "builtin_function_or_method",
    "instance",
    "_Feature"
   ],
   "window_display": false
  }
 },
 "nbformat": 4,
 "nbformat_minor": 4
}
