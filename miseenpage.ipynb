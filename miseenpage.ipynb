{
 "cells": [
  {
   "cell_type": "code",
   "execution_count": null,
   "metadata": {},
   "outputs": [],
   "source": [
    "---"
   ]
  },
  {
   "cell_type": "markdown",
   "metadata": {},
   "source": [
    "<article class=\"alert alert-warning\" style=\"display: inline-block\" >\n",
    "\n",
    "<h1 class='fa fa-code' align=\"center\"> Application 1 : Le chiffre de César</h1>\n",
    "\n",
    "Le chiffre de César est une méthode de chiffrement consistant à décaler les lettres de l'alphabet de quelques crans.\n",
    "\n",
    "Par exemple, si on décale les lettres de 3 rangs (comme le faisait Jules César)\n",
    "\n",
    "<img src=\"https://ericecmorlaix.github.io/img/ChiffreDeCesar.jpg\" alt=\"ChiffreDeCesar.jpg\">\n",
    "</article>"
   ]
  },
  {
   "cell_type": "code",
   "execution_count": null,
   "metadata": {},
   "outputs": [],
   "source": [
    "---"
   ]
  },
  {
   "cell_type": "markdown",
   "metadata": {},
   "source": [
    "<article class = \"alert alert-danger\" style=\"display: inline-block\"> \n",
    "\n",
    "<h3>L'objectif :</h3>\n",
    "\n",
    "- Écrire un programme Python qui implémente le chiffre de César en utilisant les fonctions ord() et chr().\n",
    "\n",
    "- On doit pouvoir choisir le décalage des lettres entre 1 et 25.\n",
    "\n",
    "- L'entrée sera un texte quelconque <u> sans accents et sans ponctuation</u> ; par contre, le texte d'entrée sera composé de majuscules et de minuscules.\n",
    "\n",
    "- Le texte de sortie sera écrit tout en majuscules.\n",
    "\n",
    "- Les espaces du texte d'entrée se retrouveront aux mêmes endroits dans le texte chiffré.\n",
    "\n",
    "- Faites en sorte que l'on puisse crypter, mais aussi décrypter un message.\n",
    "    \n",
    "</article>"
   ]
  },
  {
   "cell_type": "code",
   "execution_count": null,
   "metadata": {},
   "outputs": [],
   "source": [
    "---"
   ]
  },
  {
   "cell_type": "markdown",
   "metadata": {},
   "source": [
    "<section class = \"alert alert-info\" style=\"display: block\">\n",
    "<h3>Un peu d'aide :</h3>    \n",
    "\n",
    "\n",
    "\n",
    "**La notion de \"modulo\"**\n",
    "\n",
    "Considérons les nombres de $0$ à $25$, il y en a $26$.\n",
    "\n",
    "Lorsqu'on divise un nombre par 26, les restes possibles sont compris entre $0$ et $25$.\n",
    "\n",
    "**Par exemple :**\n",
    "- Dans la division Euclidienne de $17$ par $26$ le reste est $17$ ;\n",
    "- Dans la division Euclidienne de $28$ par $26$ le reste est $ 2$.\n",
    "\n",
    "**En Python : l'opération  28 % 26 donne 2 comme résultat**\n",
    "\n",
    "Sachant que les lettres majuscules sont sur la plage 65 (pour A) à 90 (pour Z).\n",
    "\n",
    "Pour ramener les lettres de l'alphabet sur la plage $[0 ,1,2,...,25]$, il suffit de retirer $65$ au code ASCII de la lettre.\n",
    "\n",
    "Cette opération permet de considérer que les nombres associés aux lettres de l'alphabet vont de $0$ à $25$.\n",
    "    \n",
    "</section>"
   ]
  },
  {
   "cell_type": "code",
   "execution_count": null,
   "metadata": {},
   "outputs": [],
   "source": [
    "---"
   ]
  },
  {
   "cell_type": "markdown",
   "metadata": {},
   "source": [
    "<section class = \"alert alert-success\" style=\"display: block\"> \n",
    "\n",
    "<h3>Appliquons cela au chiffrement de César :</h3>\n",
    "\n",
    "<br>\n",
    "    \n",
    "**Comment se code la lettre $C$ :**\n",
    "\n",
    "- Le code ASCII de $C$ est $67$ ;\n",
    "- On retire $65$, on trouve $2$ ;\n",
    "- On applique le décalage de César : on trouve $5$ ;\n",
    "- On calcule le reste dans la division Euclidienne de $5$ par $26$ : On trouve $5$ ;\n",
    "- On ajoute $65$, on trouve $70$ ;\n",
    "- On transforme ce code ASCII en lettre : $chr(70)$, on trouve $F$.\n",
    "\n",
    "<br>\n",
    "    \n",
    "**Comment se code la lettre $Y$ :**\n",
    "\n",
    "- Le code ASCII de $Y$ est $89$ ;\n",
    "- On retire $65$, on trouve $24$ ;\n",
    "- On applique le décalage de César : on trouve $27$ ;\n",
    "- On calcule le reste dans la division Euclidienne de $27$ par $26$ : On trouve $1$ ;\n",
    "- On ajoute $65$, on trouve $66$ ;\n",
    "- On transforme ce code ASCII en lettre : $chr(66)$, on trouve $B$.\n",
    "</section>\n"
   ]
  },
  {
   "cell_type": "code",
   "execution_count": null,
   "metadata": {},
   "outputs": [],
   "source": []
  }
 ],
 "metadata": {
  "kernelspec": {
   "display_name": "Python 3",
   "language": "python",
   "name": "python3"
  },
  "language_info": {
   "codemirror_mode": {
    "name": "ipython",
    "version": 3
   },
   "file_extension": ".py",
   "mimetype": "text/x-python",
   "name": "python",
   "nbconvert_exporter": "python",
   "pygments_lexer": "ipython3",
   "version": "3.7.3"
  },
  "toc": {
   "base_numbering": 1,
   "nav_menu": {},
   "number_sections": true,
   "sideBar": true,
   "skip_h1_title": false,
   "title_cell": "Table of Contents",
   "title_sidebar": "Contents",
   "toc_cell": false,
   "toc_position": {},
   "toc_section_display": true,
   "toc_window_display": false
  },
  "varInspector": {
   "cols": {
    "lenName": 16,
    "lenType": 16,
    "lenVar": 40
   },
   "kernels_config": {
    "python": {
     "delete_cmd_postfix": "",
     "delete_cmd_prefix": "del ",
     "library": "var_list.py",
     "varRefreshCmd": "print(var_dic_list())"
    },
    "r": {
     "delete_cmd_postfix": ") ",
     "delete_cmd_prefix": "rm(",
     "library": "var_list.r",
     "varRefreshCmd": "cat(var_dic_list()) "
    }
   },
   "types_to_exclude": [
    "module",
    "function",
    "builtin_function_or_method",
    "instance",
    "_Feature"
   ],
   "window_display": false
  }
 },
 "nbformat": 4,
 "nbformat_minor": 4
}
