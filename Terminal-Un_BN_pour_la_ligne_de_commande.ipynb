{
 "cells": [
  {
   "cell_type": "markdown",
   "metadata": {},
   "source": [
    "# Un Bloc Note pour débuter en ligne de commande"
   ]
  },
  {
   "cell_type": "markdown",
   "metadata": {},
   "source": [
    "## Présentation :\n",
    "\n",
    "L'objectif de ce document est de vous faire découvrir par la pratique ***les supers pouvoirs de la ligne de commande*** (ce qui impliquent...).\n",
    "\n",
    "Ainsi, vous saurez dialoguer avec le sytème d'exploitation, l'[OS](https://fr.wikipedia.org/wiki/Syst%C3%A8me_d%27exploitation), de votre machine, sans recourir à une interface graphique, en mode textuel comme au temps de premiers ordinateurs. Mais figurez-vous que ceci n'appartient pas qu'à l'ère des \"ordinosaures\", bien au contraire...\n",
    "\n",
    "Pour débuter vous allez mener les activités suivantes dans vos environnements usuels : \n",
    "- sur votre iPad, installer l'application `a-Shell mini` depuis le self-service et la démarrer ;\n",
    "- sur le serveur http://jupyterhub.ecmorlaix.fr:8093, cliquer sur le bouton `Nouveau` en haut à droite de la page d'accueil puis choisir `Terminal`.\n",
    "    \n",
    "Cela à pour effet d'ouvrir une fenêtre qui émule un **Terminal** sur votre écran ;\n",
    "    \n",
    "Le caractère **`$`** s'appelle un **prompt**, c'est-à-dire une invitation à entrer au clavier une commande système dans le Terminal.\n",
    "\n",
    "Le programme qui interprète les instructions de commandes système est appelé **shell**\n",
    "\n",
    "> Il existe une grande variété de shells comme [sh](https://fr.wikipedia.org/wiki/Bourne_shell), [bash](https://fr.wikipedia.org/wiki/Bourne-Again_shell), [dash](https://fr.wikipedia.org/wiki/Debian_Almquist_shell), [ksh](https://fr.wikipedia.org/wiki/Korn_shell), [csh](https://fr.wikipedia.org/wiki/C_shell)..., pour les systèmes de type [UNIX](https://fr.wikipedia.org/wiki/Unix) ; \n",
    "> \n",
    "> - Notre serveur JupyterHub est installé sur une distribution Ubuntu Server, c'est un système d'exploitation de type [GNU](https://fr.wikipedia.org/wiki/GNU)/[Linux](https://fr.wikipedia.org/wiki/Noyau_Linux), aussi, le shell par défaut est donc le bash.\n",
    ">\n",
    "> - Les instructions de commandes de [a-Shell mini](https://apps.apple.com/fr/app/a-shell-mini/id1543537943?l=en#?platform=ipad) sont un portage spécifique de commandes Unix pour iOS et sont volontairement réduites (mais extensibles). Le système d'exploitation installé sur votre iPad se nomme [Darwin](https://fr.wikipedia.org/wiki/Darwin_(informatique)),  aussi [a-Shell](https://github.com/holzschu/a-shell) utilise la version [BSD](https://fr.wikipedia.org/wiki/Berkeley_Software_Distribution) : il y a donc des petites différences dans les options et le comportement des commandes par rapport au bash du projet GNU...\n",
    "\n",
    "Les commandes système ont la forme suivante :\n",
    "`$ nom_de_la_commande -options parametres`\n",
    "\n",
    "> Par exemple, à essayer vous-même sur votre iPad et sur le serveur, l'instruction `uname` renvoie le nom du système d'exploitation de la machine tandis que l'instruction `uname -a` complète avec d'autres informations concernant la version de l'OS et le hardware de la machine... \n",
    "\n",
    "Les instructions de commandes s'écrivent donc dans un terminal après une invite.\n",
    "\n",
    "Nous avons déjà eu l'occasion d'utiliser de telles commandes depuis le serveur du lycée :\n",
    "- pour télécharger un fichier disponible sur le web `$ wget URL_du_fichier` ;\n",
    "- ou pour cloner un dépot GitHub `$ git clone URL_du_depot.git`.\n",
    "\n",
    "Pour aller plus avant, la suite de ce notebook présente d'autres commmandes de base à expérimenter dans un terminal...\n",
    "\n",
    "> A noter que sur le serveur du lycée, on peut également les écrire dans et les exécuter depuis une cellule de code d'un notebook jupyter mais dans ce cas il est préférable de les faire précéder d'un `!`."
   ]
  },
  {
   "cell_type": "markdown",
   "metadata": {},
   "source": [
    "## Avertissement :\n",
    "***\n",
    "### Pratique à connaître :\n",
    "\n",
    ">**auto-complétion** : après avoir tapé les premiers caractères, il est possible d'appuyer sur la touche tab qui permet d'ajouter la suite de la commande, du nom du répertoire ou du fichier. Cela évite les erreurs de frappe et est très appréciable pour éviter de saisir le nom de fichier parfois long et complexe comme le nom de certain paquet. Peut être utilisé plusieurs fois si plusieurs noms ont une partie commune. Attention, c'est sensible à la casse !\n",
    "\n",
    ">**historique de commande** : les flèches haut et bas permettent de rappeler des anciennes commandes.\n",
    "\n",
    "> Sur iPad, Nicolas Holzschuch, le développeur de a-Shell mini, a ajouté un bandeau en bas de l'application avec des bouton qui assurent, entre autres, les fonctions d'**auto-complétion** et d'**historique de commande**. Nicolas Holzschuch est Directeur de recherche à l’INRIA de Grenoble-Rhône-Alpes : https://maverick.inria.fr/Members/Nicolas.Holzschuch/, c'est également lui qui développe l'application Carnets.\n",
    "***"
   ]
  },
  {
   "cell_type": "markdown",
   "metadata": {},
   "source": [
    "### Mon pense-bête pour la ligne de commande :\n",
    "A mesure que vous explorez ce bloc-note et que vous pratiquez la ligne de commande, compléter le tableau suivant pour établir votre synthèse des principales instructions à retenir :\n",
    "\n",
    "|  **Commande**  |  **Option** |  **Paramètre** |  **Action**                     |\n",
    "|:--------------:|:-----------:|:--------------:|:-------------------------------:|\n",
    "| mkdir            |     ...     |       ...      | ...                             |\n",
    "| ...            |     ...     |       ...      | ...                             |"
   ]
  },
  {
   "cell_type": "markdown",
   "metadata": {},
   "source": [
    "## Les commandes de bases à découvrir :\n",
    "\n",
    "### Afficher le dossier courant :"
   ]
  },
  {
   "cell_type": "code",
   "execution_count": null,
   "metadata": {},
   "outputs": [],
   "source": [
    "pwd"
   ]
  },
  {
   "cell_type": "markdown",
   "metadata": {},
   "source": [
    "Cette instruction permet de répondre à la question : où suis-je dans l'arborescence des dossiers ?\n",
    "\n",
    "> Sur le serveur du lycée, le texte `jupyter-pnom@r610b:~` indique que vous êtes connecté sur la machine `r610b` sous le nom d'utilisateur `jupyter-pnom` et que le dossier de travail actuel est le dossier `~`, c'est-à-dire votre dossier personnel sur le serveur `/home/jupyter-pnom`.\n",
    "\n",
    "> Sur votre iPad, l'application a-Shell mini, comme chaque application, a son propre dossier `~` (`$HOME`), tel que `private/var/mobile/Containers/Data/Application/1C49F07A-C30F-45E7-ADFD-8C350D68641A`, et par défaut à l'ouverture d'une fenêtre de terminal a-Shell, le dossier courant est `~/Documents`"
   ]
  },
  {
   "cell_type": "markdown",
   "metadata": {},
   "source": [
    "Au fur et à mesure que vous exécutérez les instructions de commande suivantes, observez leur effet sur le serveur JupyterHub dans l'onglet `Home Page` et sur votre iPad avec l'application Fichiers dans le dossier a-Shell mini et ajouter vos propres commentaires d'observation...\n",
    "\n",
    "### Créer un dossier :"
   ]
  },
  {
   "cell_type": "code",
   "execution_count": null,
   "metadata": {},
   "outputs": [],
   "source": [
    "mkdir monDossier"
   ]
  },
  {
   "cell_type": "markdown",
   "metadata": {},
   "source": [
    "### Créer un fichier vide au format markdown :"
   ]
  },
  {
   "cell_type": "code",
   "execution_count": null,
   "metadata": {},
   "outputs": [],
   "source": [
    "touch monFichierMarkdown.md # ajouter un ! devant la commande pour une utilisation dans une cellule code d'un notebook"
   ]
  },
  {
   "cell_type": "markdown",
   "metadata": {},
   "source": [
    "### Créer un fichier au format texte en y intégrant du contenu :"
   ]
  },
  {
   "cell_type": "code",
   "execution_count": null,
   "metadata": {},
   "outputs": [],
   "source": [
    "echo \"Salut le monde\">monFichierTexte.txt # ajouter un ! devant la commande pour une utilisation dans une cellule code d'un notebook"
   ]
  },
  {
   "cell_type": "markdown",
   "metadata": {},
   "source": [
    "### Afficher le contenu d'un fichier :"
   ]
  },
  {
   "cell_type": "code",
   "execution_count": null,
   "metadata": {},
   "outputs": [],
   "source": [
    "cat monFichierTexte.txt"
   ]
  },
  {
   "cell_type": "markdown",
   "metadata": {},
   "source": [
    "> La commande suivante n'est à saisir que dans un terminal (dans un bloc-note elle fait planter le noyau). La touche `Q` permet de sortir et revenir au prompt `$`."
   ]
  },
  {
   "cell_type": "code",
   "execution_count": null,
   "metadata": {},
   "outputs": [],
   "source": [
    "less monFichierTexte.txt # touche \"Q\" pour quitter"
   ]
  },
  {
   "cell_type": "markdown",
   "metadata": {},
   "source": [
    "### Déplacer un fichier, un dossier :"
   ]
  },
  {
   "cell_type": "code",
   "execution_count": null,
   "metadata": {},
   "outputs": [],
   "source": [
    "mv monFichierTexte.txt /home/jupyter-pnom/monDossier/ # Sur le serveur, remplacer \"pnom\" par votre nom d'utilisateur"
   ]
  },
  {
   "cell_type": "code",
   "execution_count": null,
   "metadata": {},
   "outputs": [],
   "source": [
    "mv monFichierTexte.txt monDossier/ # Sur iPad"
   ]
  },
  {
   "cell_type": "markdown",
   "metadata": {},
   "source": [
    "> - Commentez pour la destination s'il s'agit d'un chemin absolu ou relatif ;\n",
    "> - Pensez à rafraichir l'affichage dans Fichiers sur iPad comme dans l'onglet `Home Page` sur le serveur.\n",
    "\n",
    "> Remarque : `mv monFichierTexte.txt monDossier/toto.txt`permet de déplacer le fichier tout en le renommant.\n",
    "\n",
    "### Copier dans un autre dossier :"
   ]
  },
  {
   "cell_type": "code",
   "execution_count": null,
   "metadata": {},
   "outputs": [],
   "source": [
    "cp monFichierMarkdown.md monDossier/ # Sur le serveur"
   ]
  },
  {
   "cell_type": "code",
   "execution_count": null,
   "metadata": {},
   "outputs": [],
   "source": [
    "cp monFichierMarkdown.md ~/Documents/monDossier/ # Sur iPad"
   ]
  },
  {
   "cell_type": "markdown",
   "metadata": {},
   "source": [
    "### Changer de dossier courant :"
   ]
  },
  {
   "cell_type": "code",
   "execution_count": null,
   "metadata": {},
   "outputs": [],
   "source": [
    "cd monDossier"
   ]
  },
  {
   "cell_type": "markdown",
   "metadata": {},
   "source": [
    "> Quelle commande permet de vérifier ce changement ?\n",
    ">\n",
    "> ..."
   ]
  },
  {
   "cell_type": "code",
   "execution_count": null,
   "metadata": {},
   "outputs": [],
   "source": [
    "     # pour vérifier..."
   ]
  },
  {
   "cell_type": "markdown",
   "metadata": {},
   "source": [
    "### Copier et renommer un fichier :"
   ]
  },
  {
   "cell_type": "code",
   "execution_count": null,
   "metadata": {},
   "outputs": [],
   "source": [
    "cp monFichierTexte.txt monFichierTexteBis.txt"
   ]
  },
  {
   "cell_type": "markdown",
   "metadata": {},
   "source": [
    "### Lister le contenu d'un dossier"
   ]
  },
  {
   "cell_type": "code",
   "execution_count": null,
   "metadata": {},
   "outputs": [],
   "source": [
    "ls"
   ]
  },
  {
   "cell_type": "code",
   "execution_count": null,
   "metadata": {},
   "outputs": [],
   "source": [
    "ls -l"
   ]
  },
  {
   "cell_type": "code",
   "execution_count": null,
   "metadata": {},
   "outputs": [],
   "source": [
    "ls .."
   ]
  },
  {
   "cell_type": "code",
   "execution_count": null,
   "metadata": {},
   "outputs": [],
   "source": [
    "# Code à tester dans un notebook sur le serveur\n",
    "def Lister_le_contenu_de_ce_dossier():\n",
    "    liste_du_contenu = !ls\n",
    "    return liste_du_contenu\n",
    "\n",
    "Lister_le_contenu_de_ce_dossier()"
   ]
  },
  {
   "cell_type": "markdown",
   "metadata": {},
   "source": [
    "### Revenir au dossier racine"
   ]
  },
  {
   "cell_type": "code",
   "execution_count": null,
   "metadata": {},
   "outputs": [],
   "source": [
    "cd"
   ]
  },
  {
   "cell_type": "code",
   "execution_count": null,
   "metadata": {},
   "outputs": [],
   "source": [
    "ls *"
   ]
  },
  {
   "cell_type": "markdown",
   "metadata": {},
   "source": [
    "### Effacer l'affichage du  terminal"
   ]
  },
  {
   "cell_type": "code",
   "execution_count": null,
   "metadata": {},
   "outputs": [],
   "source": [
    "clear"
   ]
  },
  {
   "cell_type": "markdown",
   "metadata": {},
   "source": [
    "###  Supprimer un fichier ( ATTENTION ! C'est sans retour...)"
   ]
  },
  {
   "cell_type": "code",
   "execution_count": null,
   "metadata": {},
   "outputs": [],
   "source": [
    "rm monFichierMarkdown.md"
   ]
  },
  {
   "cell_type": "markdown",
   "metadata": {},
   "source": [
    "###  Supprimer un dossier et tout son contenu ( ATTENTION ! C'est radical et sans retour...)\n",
    "\n",
    "> `rmdir` permet de supprimer un dossier seulement s'il est vide"
   ]
  },
  {
   "cell_type": "code",
   "execution_count": null,
   "metadata": {},
   "outputs": [],
   "source": [
    "rm -rf monDossier"
   ]
  },
  {
   "cell_type": "markdown",
   "metadata": {},
   "source": [
    "## Aide et Documentation :\n",
    "\n",
    "### Pour avoir de l'aide sur une commande :"
   ]
  },
  {
   "cell_type": "code",
   "execution_count": null,
   "metadata": {},
   "outputs": [],
   "source": [
    "rm --help"
   ]
  },
  {
   "cell_type": "markdown",
   "metadata": {},
   "source": [
    "#### ou"
   ]
  },
  {
   "cell_type": "code",
   "execution_count": null,
   "metadata": {},
   "outputs": [],
   "source": [
    "man rm # touche \"Q\" pour quitterhelp"
   ]
  },
  {
   "cell_type": "markdown",
   "metadata": {},
   "source": [
    "### Pour obtenir l'aide général :"
   ]
  },
  {
   "cell_type": "code",
   "execution_count": null,
   "metadata": {},
   "outputs": [],
   "source": [
    "help"
   ]
  },
  {
   "cell_type": "markdown",
   "metadata": {},
   "source": [
    "### Visualiser le code ou télécharger un fichier disponible sur le web :\n",
    "\n",
    "> La commande `wget` n'est pas disponible dans a-Shell. Nous allons utiliser ici la commande [`curl`](https://fr.wikipedia.org/wiki/CURL) qui est plus commune :\n",
    "\n",
    "#### Afficher l'entête d'une page web :"
   ]
  },
  {
   "cell_type": "code",
   "execution_count": null,
   "metadata": {},
   "outputs": [],
   "source": [
    "curl --head http://api.si.lycee.ecmorlaix.fr/APprentissageHtmlCss/"
   ]
  },
  {
   "cell_type": "markdown",
   "metadata": {},
   "source": [
    "#### Copier le code d'une page web dans un fichier dans le dossier courant : "
   ]
  },
  {
   "cell_type": "code",
   "execution_count": null,
   "metadata": {},
   "outputs": [],
   "source": [
    "curl http://api.si.lycee.ecmorlaix.fr/APprentissageHtmlCss/ > maPage.html"
   ]
  },
  {
   "cell_type": "markdown",
   "metadata": {},
   "source": [
    "#### Télécharger un fichier du web dans le dossier courant :"
   ]
  },
  {
   "cell_type": "code",
   "execution_count": null,
   "metadata": {},
   "outputs": [],
   "source": [
    "curl -O http://api.si.lycee.ecmorlaix.fr/APprentissageHtmlCss/zip/hyperliens.zip"
   ]
  },
  {
   "cell_type": "markdown",
   "metadata": {},
   "source": [
    "#### Télécharger un fichier du web dans le dossier courant en le renommant :"
   ]
  },
  {
   "cell_type": "code",
   "execution_count": null,
   "metadata": {},
   "outputs": [],
   "source": [
    "curl -o monNotebookTerminal.ipynb https://raw.githubusercontent.com/ericECmorlaix/1NSI_2020-2021/master/ipycanvas-Le_BN_pour_dessiner.ipynb "
   ]
  },
  {
   "cell_type": "markdown",
   "metadata": {},
   "source": [
    "### Dézipper un fichier :"
   ]
  },
  {
   "cell_type": "markdown",
   "metadata": {},
   "source": [
    "Sur iPad, la commande `unzip` n'est pas disponible de base dans a-Shell mini mais il est possible de l'y ajouter comme d'autres commandes à partir de la page https://github.com/holzschu/a-Shell-commands.\n",
    "\n",
    "Pour ce faire il faut créer un dossier nommé `bin` dans le dossier `~/Documents/` :"
   ]
  },
  {
   "cell_type": "code",
   "execution_count": null,
   "metadata": {},
   "outputs": [],
   "source": [
    "mkdir ~/Documents/bin"
   ]
  },
  {
   "cell_type": "markdown",
   "metadata": {},
   "source": [
    "Puis y télécharger le fichier correspondant à cette commande :"
   ]
  },
  {
   "cell_type": "code",
   "execution_count": null,
   "metadata": {},
   "outputs": [],
   "source": [
    "cd ~/Documents/bin"
   ]
  },
  {
   "cell_type": "code",
   "execution_count": null,
   "metadata": {},
   "outputs": [],
   "source": [
    "curl -O https://github.com/holzschu/a-Shell-commands/releases/download/0.1/unzip.wasm"
   ]
  },
  {
   "cell_type": "markdown",
   "metadata": {},
   "source": [
    "Il est alors possible de l'utiliser comme sur le serveur :"
   ]
  },
  {
   "cell_type": "code",
   "execution_count": null,
   "metadata": {},
   "outputs": [],
   "source": [
    "unzip hyperliens.zip"
   ]
  },
  {
   "cell_type": "markdown",
   "metadata": {},
   "source": [
    "### Zipper des fichiers :"
   ]
  },
  {
   "cell_type": "markdown",
   "metadata": {},
   "source": [
    "Sur iPad, il faut également ajouter la commande `zip` dans le dossier ~/Documents/bin"
   ]
  },
  {
   "cell_type": "code",
   "execution_count": null,
   "metadata": {},
   "outputs": [],
   "source": [
    "curl -O https://github.com/holzschu/a-Shell-commands/releases/download/0.1/zip.wasm"
   ]
  },
  {
   "cell_type": "code",
   "execution_count": null,
   "metadata": {},
   "outputs": [],
   "source": [
    "zip -r test.zip 2_SI-CIT"
   ]
  },
  {
   "cell_type": "markdown",
   "metadata": {},
   "source": [
    "### Rechercher :"
   ]
  },
  {
   "cell_type": "markdown",
   "metadata": {},
   "source": [
    "***\n",
    ">Pour de nombreuses commandes, il est souvent utile de faire appel à des méta-caractères :\n",
    "- Il y a évidemment le caractère `*` qui remplace un ou plusieurs caractères (ou même aucun !) ;\n",
    "- Il y a aussi `?` pour ne remplacer qu'un caractère ;\n",
    "- Si vous avez besoin d'un caractère qui est aussi un méta-caractère, utilisez `\\` (anti-slash) devant. Cela évite au caractère d' être interprété par le shell. Il l'affiche seulement.\n",
    "***"
   ]
  },
  {
   "cell_type": "code",
   "execution_count": null,
   "metadata": {},
   "outputs": [],
   "source": [
    "find */*.ipynb"
   ]
  },
  {
   "cell_type": "markdown",
   "metadata": {},
   "source": [
    "## Pour aller plus loin en ligne de commande :"
   ]
  },
  {
   "cell_type": "markdown",
   "metadata": {},
   "source": [
    "- https://doc.ubuntu-fr.org/tutoriel/console_ligne_de_commande\n",
    "\n",
    "- https://doc.ubuntu-fr.org/commande_shell\n",
    "\n",
    "- http://www.jetestelinux.com/le-terminal-linux-pour-debutants\n",
    "\n",
    "- Une application sympathique à faire sur une Raspberry Pi : https://projects.raspberrypi.org/en/projects/pacman-terminal\n",
    "\n",
    "- Une autre en ligne : http://luffah.xyz/bidules/Terminus/\n",
    "\n",
    "- Voir aussi https://flaviocopes.nyc3.digitaloceanspaces.com/linux-commands-handbook/linux-commands-handbook.pdf"
   ]
  },
  {
   "cell_type": "markdown",
   "metadata": {},
   "source": [
    "### Afficher les informations système sous Linux\n",
    "- Carte mère et Bios (en root) : ``dmidecode``\n",
    "- RAM : ``free -m``\n",
    "- Processeur : ``lscpu - cat /proc/cpuinfo``\n",
    "- Carte graphique : ``lspci | grep VGA``\n",
    "- Liste des périphériques du bus PCI : ``lspci``\n",
    "- Liste des périphériques USB : ``lsusb``\n",
    "- Liste des périphériques de communication série par USB : ``dmesg | grep ttyACM``\n",
    "- Interfaces réseau : ``ifconfig``\n",
    "- Espace disque et pourcentage d'occupation : ``df -h``\n",
    "- Partition swap : ``swapon -s``\n",
    "- Machine (noyau, nom de machine...) : ``uname -a``\n",
    "- Informations de fonctionnement : ``uptime, top, ps, who, vmstat ``\n",
    "- Pour ceux qui veulent aller encore plus loin, essayer la commande ``lshw``"
   ]
  },
  {
   "cell_type": "markdown",
   "metadata": {},
   "source": [
    "- https://lempereurdunet.fr/2020/11/25/presentation-dun-emulateur-de-terminal-pour-iphone-et-ipad/\n",
    "    \n",
    "- https://linux.goffinet.org/administration/le-shell/la-ligne-de-commande/#11-d%C3%A9finitions\n",
    "\n",
    "- https://doc.ubuntu-fr.org/commande_shell\n",
    "\n",
    "- http://jp.barralis.com/linux-man/result.php#rech\n",
    "\n",
    "- http://marionpatrick.free.fr/man_html/html/tuto_shell.html"
   ]
  },
  {
   "cell_type": "markdown",
   "metadata": {},
   "source": [
    "## Petit bestiaire :\n",
    "\n",
    "\n",
    "\n",
    "\n",
    "### Gnu :\n",
    "\n",
    "![](https://upload.wikimedia.org/wikipedia/commons/thumb/2/22/Heckert_GNU_white.svg/langfr-390px-Heckert_GNU_white.svg.png)\n",
    "\n",
    "Le logo GNU, dessiné par Aurelio A. Heckert, inspiré d'un dessin d'Étienne Suvasa qu'il a simplifié.\n",
    "\n",
    "https://fr.wikipedia.org/wiki/GNU\n",
    "\n",
    "\n",
    "### Tux :\n",
    "\n",
    "![](https://upload.wikimedia.org/wikipedia/commons/thumb/3/35/Tux.svg/300px-Tux.svg.png)\n",
    "\n",
    "Tux le manchot, la mascotte du noyau Linux (dessin original de Larry Ewing réalisé avec GIMP)\n",
    "\n",
    "https://fr.wikipedia.org/wiki/Tux\n",
    "\n",
    "### Beastie :\n",
    "\n",
    "![](https://upload.wikimedia.org/wikipedia/commons/thumb/4/40/Daemon-phk.svg/330px-Daemon-phk.svg.png)\n",
    "\n",
    "Le Démon BSD, appelé Beastie, est un dessin de John Lasseter. Beastie est la mascotte de BSD.\n",
    "\n",
    "https://fr.wikipedia.org/wiki/D%C3%A9mon_BSD\n",
    "\n",
    "\n",
    "### Hexley :\n",
    "\n",
    "![](https://img.macg.co/2016/11/macgpic-1480007512-33290149576254-co-jpt.jpg)\n",
    "\n",
    "\n",
    "Hexley l’ornithorynque, la mascotte (officieuse) de Darwin, le système open source qui sous-tend macOS et iOS."
   ]
  },
  {
   "cell_type": "code",
   "execution_count": null,
   "metadata": {},
   "outputs": [],
   "source": []
  }
 ],
 "metadata": {
  "kernelspec": {
   "display_name": "Python 3",
   "language": "python",
   "name": "python3"
  },
  "language_info": {
   "codemirror_mode": {
    "name": "ipython",
    "version": 3
   },
   "file_extension": ".py",
   "mimetype": "text/x-python",
   "name": "python",
   "nbconvert_exporter": "python",
   "pygments_lexer": "ipython3",
   "version": "3.7.3"
  },
  "toc": {
   "base_numbering": 1,
   "nav_menu": {},
   "number_sections": true,
   "sideBar": true,
   "skip_h1_title": false,
   "title_cell": "Table of Contents",
   "title_sidebar": "Contents",
   "toc_cell": false,
   "toc_position": {},
   "toc_section_display": true,
   "toc_window_display": false
  },
  "varInspector": {
   "cols": {
    "lenName": 16,
    "lenType": 16,
    "lenVar": 40
   },
   "kernels_config": {
    "python": {
     "delete_cmd_postfix": "",
     "delete_cmd_prefix": "del ",
     "library": "var_list.py",
     "varRefreshCmd": "print(var_dic_list())"
    },
    "r": {
     "delete_cmd_postfix": ") ",
     "delete_cmd_prefix": "rm(",
     "library": "var_list.r",
     "varRefreshCmd": "cat(var_dic_list()) "
    }
   },
   "types_to_exclude": [
    "module",
    "function",
    "builtin_function_or_method",
    "instance",
    "_Feature"
   ],
   "window_display": false
  }
 },
 "nbformat": 4,
 "nbformat_minor": 2
}
